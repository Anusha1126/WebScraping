{
  "cells": [
    {
      "cell_type": "code",
      "execution_count": 1,
      "metadata": {
        "colab": {
          "base_uri": "https://localhost:8080/"
        },
        "id": "IE4oY5ipPSqK",
        "outputId": "5b2090cb-2755-4e5f-9566-774a3ad7a215"
      },
      "outputs": [
        {
          "name": "stdout",
          "output_type": "stream",
          "text": [
            "Original DataFrame:\n",
            "                                               Title  Price\n",
            "0  NEW LISTINGDesign Patterns Elements of Reusabl...  13.00\n",
            "1  NEW LISTINGHeal Your Headache  The 123 Program...   9.95\n",
            "2  NEW LISTINGReach for Reading Common Core Progr...  25.00\n",
            "3  NEW LISTINGMADONNA THE GIRLIE SHOW TOUR PROGRA...  95.00\n",
            "4  Healthy Brain Happy Life A Personal Program to...  14.56\n",
            "5  Workbook The Silva Mind Control Method The Rev...  11.99\n",
            "6  NEW LISTINGNEW Python Programming An Introduct...  14.00\n",
            "7  NEW LISTINGTaylor Swift The Red Tour Official ...  40.00\n",
            "8  The C Programming Language Still Available by ...   5.16\n",
            "9            Linux Programming Bible by Goerzen John   6.25\n",
            "Cleaned DataFrame:\n",
            "                                               Title  Price Price Range\n",
            "0  NEW LISTINGDesign Patterns Elements of Reusabl...  13.00         Low\n",
            "1  NEW LISTINGHeal Your Headache  The 123 Program...   9.95         Low\n",
            "2  NEW LISTINGReach for Reading Common Core Progr...  25.00      Medium\n",
            "3  NEW LISTINGMADONNA THE GIRLIE SHOW TOUR PROGRA...  95.00        High\n",
            "4  Healthy Brain Happy Life A Personal Program to...  14.56         Low\n",
            "5  Workbook The Silva Mind Control Method The Rev...  11.99         Low\n",
            "6  NEW LISTINGNEW Python Programming An Introduct...  14.00         Low\n",
            "7  NEW LISTINGTaylor Swift The Red Tour Official ...  40.00      Medium\n",
            "8  The C Programming Language Still Available by ...   5.16         Low\n",
            "9            Linux Programming Bible by Goerzen John   6.25         Low\n"
          ]
        }
      ],
      "source": [
        "import pandas as pd\n",
        "\n",
        "\n",
        "# Load the CSV file into a DataFrame\n",
        "\n",
        "df = pd.read_csv('products.csv')\n",
        "\n",
        "# Display the DataFrame\n",
        "print(\"Original DataFrame:\")\n",
        "print(df)\n",
        "\n",
        "# Handle missing or inconsistent data\n",
        "# Replace 'No title found' with NaN and drop such rows\n",
        "df['Title'].replace('No title found', pd.NA, inplace=True)\n",
        "df.dropna(subset=['Title'], inplace=True)\n",
        "\n",
        "# Convert the prices to numerical format\n",
        "df['Price'] = pd.to_numeric(df['Price'], errors='coerce')\n",
        "\n",
        "# Handle any rows where price conversion failed\n",
        "df.dropna(subset=['Price'], inplace=True)\n",
        "\n",
        "# Add a new column for price range\n",
        "def categorize_price(price):\n",
        "    if price < 20:\n",
        "        return 'Low'\n",
        "    elif 20 <= price <= 50:\n",
        "        return 'Medium'\n",
        "    else:\n",
        "        return 'High'\n",
        "\n",
        "df['Price Range'] = df['Price'].apply(categorize_price)\n",
        "\n",
        "# Display the cleaned DataFrame\n",
        "print(\"Cleaned DataFrame:\")\n",
        "print(df)\n",
        "\n",
        "# Save the cleaned DataFrame to a new CSV file\n",
        "\n",
        "df.to_csv('cleaned_products.csv', index=False)\n"
      ]
    }
  ],
  "metadata": {
    "colab": {
      "provenance": []
    },
    "kernelspec": {
      "display_name": "Python 3",
      "name": "python3"
    },
    "language_info": {
      "codemirror_mode": {
        "name": "ipython",
        "version": 3
      },
      "file_extension": ".py",
      "mimetype": "text/x-python",
      "name": "python",
      "nbconvert_exporter": "python",
      "pygments_lexer": "ipython3",
      "version": "3.10.7"
    }
  },
  "nbformat": 4,
  "nbformat_minor": 0
}
