{
  "cells": [
    {
      "cell_type": "code",
      "execution_count": 3,
      "metadata": {
        "colab": {
          "base_uri": "https://localhost:8080/"
        },
        "id": "IE4oY5ipPSqK",
        "outputId": "5b2090cb-2755-4e5f-9566-774a3ad7a215"
      },
      "outputs": [
        {
          "name": "stdout",
          "output_type": "stream",
          "text": [
            "Original DataFrame:\n",
            "                                               Title  Price\n",
            "0                                       Shop on eBay  20.00\n",
            "1              The In-Between: Paperback (Brand New)  12.99\n",
            "2  New ListingThe Lost Book of Medical Remedies: ...  19.88\n",
            "3  New ListingThe Lost Book of Herbal Remedies th...  25.01\n",
            "4  New ListingThe Lost Book of Medical Remedies: ...  21.98\n",
            "5                                 Sick Fux Paperback  19.85\n",
            "6  The Lost Book of Medical Remedies: Discover Th...  19.99\n",
            "7  New Listing(3) Rolls of 100 USPS Authentic For...  39.69\n",
            "8  12 Rules For Life & Beyond Order: 12 More Rule...   6.99\n",
            "9  Faithful and the Fallen 4 Books Set by John Gw...  48.99\n",
            "Cleaned DataFrame:\n",
            "                                               Title  Price Price Range\n",
            "0                                       Shop on eBay  20.00      Medium\n",
            "1              The In-Between: Paperback (Brand New)  12.99         Low\n",
            "2  New ListingThe Lost Book of Medical Remedies: ...  19.88         Low\n",
            "3  New ListingThe Lost Book of Herbal Remedies th...  25.01      Medium\n",
            "4  New ListingThe Lost Book of Medical Remedies: ...  21.98      Medium\n",
            "5                                 Sick Fux Paperback  19.85         Low\n",
            "6  The Lost Book of Medical Remedies: Discover Th...  19.99         Low\n",
            "7  New Listing(3) Rolls of 100 USPS Authentic For...  39.69      Medium\n",
            "8  12 Rules For Life & Beyond Order: 12 More Rule...   6.99         Low\n",
            "9  Faithful and the Fallen 4 Books Set by John Gw...  48.99      Medium\n"
          ]
        }
      ],
      "source": [
        "import pandas as pd\n",
        "\n",
        "\n",
        "# Load the CSV file into a DataFrame\n",
        "\n",
        "df = pd.read_csv('products.csv')\n",
        "\n",
        "# Display the DataFrame\n",
        "print(\"Original DataFrame:\")\n",
        "print(df)\n",
        "\n",
        "# Handle missing or inconsistent data\n",
        "# Replace 'No title found' with NaN and drop such rows\n",
        "df['Title'].replace('No title found', pd.NA, inplace=True)\n",
        "df.dropna(subset=['Title'], inplace=True)\n",
        "\n",
        "# Convert the prices to numerical format\n",
        "df['Price'] = pd.to_numeric(df['Price'], errors='coerce')\n",
        "\n",
        "# Handle any rows where price conversion failed\n",
        "df.dropna(subset=['Price'], inplace=True)\n",
        "\n",
        "# Add a new column for price range\n",
        "def categorize_price(price):\n",
        "    if price < 20:\n",
        "        return 'Low'\n",
        "    elif 20 <= price <= 50:\n",
        "        return 'Medium'\n",
        "    else:\n",
        "        return 'High'\n",
        "\n",
        "df['Price Range'] = df['Price'].apply(categorize_price)\n",
        "\n",
        "# Display the cleaned DataFrame\n",
        "print(\"Cleaned DataFrame:\")\n",
        "print(df)\n",
        "\n",
        "# Save the cleaned DataFrame to a new CSV file\n",
        "\n",
        "df.to_csv('cleaned_products.csv', index=False)\n"
      ]
    }
  ],
  "metadata": {
    "colab": {
      "provenance": []
    },
    "kernelspec": {
      "display_name": "Python 3",
      "name": "python3"
    },
    "language_info": {
      "codemirror_mode": {
        "name": "ipython",
        "version": 3
      },
      "file_extension": ".py",
      "mimetype": "text/x-python",
      "name": "python",
      "nbconvert_exporter": "python",
      "pygments_lexer": "ipython3",
      "version": "3.10.7"
    }
  },
  "nbformat": 4,
  "nbformat_minor": 0
}
